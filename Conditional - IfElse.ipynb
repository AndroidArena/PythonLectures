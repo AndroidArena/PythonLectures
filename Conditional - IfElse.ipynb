{
 "cells": [
  {
   "cell_type": "code",
   "execution_count": 12,
   "metadata": {},
   "outputs": [
    {
     "name": "stdout",
     "output_type": "stream",
     "text": [
      "not true\n"
     ]
    }
   ],
   "source": [
    "x  = 5 \n",
    "\n",
    "if x != 5 :\n",
    "    print(\"its true\")\n",
    "if :\n",
    "    print(\"its true\")\n",
    "if \n",
    "\n",
    "gfdgfdgdgd    \n",
    "    \n"
   ]
  },
  {
   "cell_type": "code",
   "execution_count": 14,
   "metadata": {},
   "outputs": [
    {
     "name": "stdout",
     "output_type": "stream",
     "text": [
      "Enter your test score1 : 100\n",
      "Enter your test score2 : 200\n",
      "100200\n"
     ]
    }
   ],
   "source": [
    "score1 = input(\"Enter your test score1 : \")\n",
    "score2 = input(\"Enter your test score2 : \")\n",
    "sum  = score1+score2\n",
    "print(sum)"
   ]
  },
  {
   "cell_type": "code",
   "execution_count": 15,
   "metadata": {},
   "outputs": [
    {
     "name": "stdout",
     "output_type": "stream",
     "text": [
      "Enter your test score1 : 100\n",
      "Enter your test score2 : 200\n",
      "300\n"
     ]
    }
   ],
   "source": [
    "score1 = int(input(\"Enter your test score1 : \"))\n",
    "score2 = int(input(\"Enter your test score2 : \"))\n",
    "sum  = score1+score2\n",
    "print(sum)"
   ]
  },
  {
   "cell_type": "code",
   "execution_count": 17,
   "metadata": {},
   "outputs": [
    {
     "name": "stdout",
     "output_type": "stream",
     "text": [
      "You're at the top! You’ve earned a distinction!\n"
     ]
    }
   ],
   "source": [
    "x = 4 \n",
    "if x <= 4 :\n",
    "    print(\"You're at the top! You’ve earned a distinction!\")\n",
    "else:\n",
    "    print(\"no\")"
   ]
  },
  {
   "cell_type": "code",
   "execution_count": 18,
   "metadata": {},
   "outputs": [
    {
     "name": "stdout",
     "output_type": "stream",
     "text": [
      "Perfect\n"
     ]
    }
   ],
   "source": [
    "score = 100\n",
    "if score==100:\n",
    "    print(\"Perfect\")\n",
    "elif  90<=score<100:\n",
    "    print(\"Distinction\")\n",
    "elif 65<=score<90:\n",
    "    print(\"First Class\")\n",
    "elif 40<=score<65:\n",
    "    print(\"Second Class\")\n",
    "else:\n",
    "    print(\"Failed\")\n"
   ]
  },
  {
   "cell_type": "code",
   "execution_count": 21,
   "metadata": {},
   "outputs": [
    {
     "name": "stdout",
     "output_type": "stream",
     "text": [
      "Bad review!\n"
     ]
    }
   ],
   "source": [
    "statement = \"The coffee is bad\"\n",
    "if 'bad' in statement:\n",
    "    print(\"Bad review!\")\n",
    "\n",
    "\n",
    "    \n"
   ]
  },
  {
   "cell_type": "code",
   "execution_count": 22,
   "metadata": {},
   "outputs": [
    {
     "name": "stdout",
     "output_type": "stream",
     "text": [
      "hurrayyy!!\n"
     ]
    }
   ],
   "source": [
    "statement2 = \"This phone works great\"\n",
    "if 'bad' in statement2:\n",
    "    print(\"This is not a bad review\")\n",
    "else:\n",
    "     print(\"hurrayyy!!\")"
   ]
  },
  {
   "cell_type": "code",
   "execution_count": 30,
   "metadata": {},
   "outputs": [
    {
     "name": "stdout",
     "output_type": "stream",
     "text": [
      "enter test score1 : 100\n",
      "enter test score 2 : 200\n",
      "200\n"
     ]
    }
   ],
   "source": [
    "\n",
    "score1=int(input(\"enter test score1 : \"))\n",
    "score2=int(input(\"enter test score 2 : \"))\n",
    "if 100>score2:\n",
    "    print(score1)\n",
    "else:\n",
    "    print(score2)"
   ]
  },
  {
   "cell_type": "code",
   "execution_count": null,
   "metadata": {},
   "outputs": [],
   "source": [
    "num = int(input(\"Enter a number: \"))\n",
    "#enter 24\n",
    "if num%2==0:\n",
    "    print(\"Even\")\n",
    "    if num%4==0:\n",
    "        print(\"divisible by 4\")\n",
    "    else:\n",
    "        print(\"Not divisible by 4\")\n",
    "else:\n",
    "    print(\"Odd\")\n",
    "    if num%3==0:\n",
    "        print(\"Divisible by 3\")\n",
    "    else:\n",
    "        print(\"Not divisible by 3\")\n"
   ]
  },
  {
   "cell_type": "code",
   "execution_count": 29,
   "metadata": {},
   "outputs": [
    {
     "name": "stdout",
     "output_type": "stream",
     "text": [
      "Is True\n"
     ]
    }
   ],
   "source": [
    "if None:\n",
    "    print(\"Is True\")\n",
    "else:\n",
    "    print(\"Is False\")"
   ]
  },
  {
   "cell_type": "code",
   "execution_count": 28,
   "metadata": {},
   "outputs": [
    {
     "name": "stdout",
     "output_type": "stream",
     "text": [
      "noooo\n"
     ]
    }
   ],
   "source": [
    "count = True\n",
    "if count != True:\n",
    "    print(\"hahaha\")\n",
    "else:\n",
    "    print(\"noooo\")"
   ]
  },
  {
   "cell_type": "code",
   "execution_count": 3,
   "metadata": {},
   "outputs": [
    {
     "name": "stdout",
     "output_type": "stream",
     "text": [
      "no\n"
     ]
    }
   ],
   "source": [
    "str = \"Dinsh\"\n",
    "if 'e' in str:\n",
    "    print(\"yes\")\n",
    "else:\n",
    "    print(\"no\")"
   ]
  },
  {
   "cell_type": "code",
   "execution_count": null,
   "metadata": {},
   "outputs": [],
   "source": [
    "x = 2\n",
    "y = 4 \n",
    "\n",
    "if y== x:\n",
    "    print(\"Yeahhhh\")\n",
    "else:\n",
    "    print(\"no\")"
   ]
  },
  {
   "cell_type": "code",
   "execution_count": 1,
   "metadata": {},
   "outputs": [
    {
     "name": "stdout",
     "output_type": "stream",
     "text": [
      "100.0\n"
     ]
    }
   ],
   "source": []
  },
  {
   "cell_type": "code",
   "execution_count": 8,
   "metadata": {},
   "outputs": [
    {
     "name": "stdout",
     "output_type": "stream",
     "text": [
      "Line 1 - a and b have same identity\n"
     ]
    }
   ],
   "source": [
    "a = 20\n",
    "b = 20\n",
    "\n",
    "if  a is b :\n",
    "    print (\"Line 1 - a and b have same identity\")\n",
    "else:\n",
    "    print (\"Line 1 - a and b do not have same identity\")"
   ]
  },
  {
   "cell_type": "code",
   "execution_count": null,
   "metadata": {},
   "outputs": [],
   "source": []
  },
  {
   "cell_type": "code",
   "execution_count": null,
   "metadata": {},
   "outputs": [],
   "source": []
  },
  {
   "cell_type": "code",
   "execution_count": null,
   "metadata": {},
   "outputs": [],
   "source": []
  },
  {
   "cell_type": "markdown",
   "metadata": {},
   "source": [
    "# Nested Conditions"
   ]
  },
  {
   "cell_type": "code",
   "execution_count": 34,
   "metadata": {},
   "outputs": [
    {
     "name": "stdout",
     "output_type": "stream",
     "text": [
      "Hello price 285\n"
     ]
    }
   ],
   "source": [
    "product_name = \"Microphone\"\n",
    "product_price =300\n",
    "tax_tableet = 10\n",
    "tax_micro = 15\n",
    "\n",
    "if product_name is \"Tablet\":\n",
    "    product_price = product_price+tax_tableet\n",
    "    \n",
    "elif product_name is \"Microphone\":\n",
    "    if tax_micro== 5:\n",
    "        product_price = product_price + tax_micro\n",
    "    else:\n",
    "        product_price = product_price - tax_micro\n",
    "\n",
    "        \n",
    "    \n",
    "else:\n",
    "    print(\"Porduct doesnt match\")\n",
    "\n",
    "print(\"Hello price\",product_price)\n",
    "#print(\"final price is {} \".format(product_price))\n",
    "\n",
    "    "
   ]
  },
  {
   "cell_type": "code",
   "execution_count": 15,
   "metadata": {},
   "outputs": [
    {
     "name": "stdout",
     "output_type": "stream",
     "text": [
      "<class 'bool'>\n"
     ]
    }
   ],
   "source": [
    "x = False\n",
    "\n",
    "print(type(x))"
   ]
  },
  {
   "cell_type": "markdown",
   "metadata": {},
   "source": [
    "# Type Casting "
   ]
  },
  {
   "cell_type": "code",
   "execution_count": 35,
   "metadata": {},
   "outputs": [
    {
     "name": "stdout",
     "output_type": "stream",
     "text": [
      "100.0\n"
     ]
    }
   ],
   "source": [
    "s=100\n",
    "e = float(s) \n",
    "print(e)\n"
   ]
  },
  {
   "cell_type": "code",
   "execution_count": 36,
   "metadata": {},
   "outputs": [
    {
     "name": "stdout",
     "output_type": "stream",
     "text": [
      "Enter number12\n"
     ]
    }
   ],
   "source": [
    "user = input(\"Enter number\")"
   ]
  },
  {
   "cell_type": "code",
   "execution_count": 37,
   "metadata": {},
   "outputs": [
    {
     "name": "stdout",
     "output_type": "stream",
     "text": [
      "<class 'str'>\n"
     ]
    }
   ],
   "source": [
    "print(type(user))"
   ]
  },
  {
   "cell_type": "code",
   "execution_count": 38,
   "metadata": {},
   "outputs": [
    {
     "name": "stdout",
     "output_type": "stream",
     "text": [
      "Enter number16\n",
      "<class 'int'>\n"
     ]
    }
   ],
   "source": [
    "prenoard = input(\"Enter number\")\n",
    "final_marks = int(prenoard)\n",
    "print(type(final_marks))"
   ]
  },
  {
   "cell_type": "code",
   "execution_count": null,
   "metadata": {},
   "outputs": [],
   "source": []
  }
 ],
 "metadata": {
  "anaconda-cloud": {},
  "kernelspec": {
   "display_name": "Python 3",
   "language": "python",
   "name": "python3"
  },
  "language_info": {
   "codemirror_mode": {
    "name": "ipython",
    "version": 3
   },
   "file_extension": ".py",
   "mimetype": "text/x-python",
   "name": "python",
   "nbconvert_exporter": "python",
   "pygments_lexer": "ipython3",
   "version": "3.7.4"
  }
 },
 "nbformat": 4,
 "nbformat_minor": 1
}
